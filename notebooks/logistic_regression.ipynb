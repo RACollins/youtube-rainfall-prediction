{
 "cells": [
  {
   "cell_type": "markdown",
   "id": "853e3157",
   "metadata": {},
   "source": [
    "# Imports"
   ]
  },
  {
   "cell_type": "code",
   "execution_count": 6,
   "id": "74d0721a",
   "metadata": {},
   "outputs": [],
   "source": [
    "import kagglehub\n",
    "import os\n",
    "import shutil\n",
    "\n",
    "import numpy as np\n",
    "import pandas as pd"
   ]
  },
  {
   "cell_type": "markdown",
   "id": "9485ce6b",
   "metadata": {},
   "source": [
    "# Download"
   ]
  },
  {
   "cell_type": "code",
   "execution_count": 3,
   "id": "f5613230",
   "metadata": {},
   "outputs": [
    {
     "name": "stdout",
     "output_type": "stream",
     "text": [
      "Path to dataset files: /Users/richardcollins/.cache/kagglehub/datasets/jsphyg/weather-dataset-rattle-package/versions/2\n",
      "Data file moved from /Users/richardcollins/.cache/kagglehub/datasets/jsphyg/weather-dataset-rattle-package/versions/2/weatherAUS.csv to ../data/weatherAUS.csv\n"
     ]
    }
   ],
   "source": [
    "# Download latest version\n",
    "path = kagglehub.dataset_download(\"jsphyg/weather-dataset-rattle-package\")\n",
    "\n",
    "print(f\"Path to dataset files: {path}\")\n",
    "\n",
    "# Move datafile to data directory in repo\n",
    "# Create data directory if it doesn't exist\n",
    "os.makedirs(\"../data\", exist_ok=True)\n",
    "\n",
    "# Source and destination paths\n",
    "source_file = os.path.join(path, \"weatherAUS.csv\")\n",
    "dest_file = \"../data/weatherAUS.csv\"\n",
    "\n",
    "# Move the file\n",
    "shutil.copy2(source_file, dest_file)\n",
    "print(f\"Data file moved from {source_file} to {dest_file}\")"
   ]
  },
  {
   "cell_type": "markdown",
   "id": "729758f6",
   "metadata": {},
   "source": [
    "# Explore"
   ]
  },
  {
   "cell_type": "markdown",
   "id": "cb3ef79e",
   "metadata": {},
   "source": [
    "## Import data and check"
   ]
  },
  {
   "cell_type": "code",
   "execution_count": 13,
   "id": "61e6132b",
   "metadata": {},
   "outputs": [
    {
     "name": "stdout",
     "output_type": "stream",
     "text": [
      "df.info():\n",
      "<class 'pandas.core.frame.DataFrame'>\n",
      "RangeIndex: 145460 entries, 0 to 145459\n",
      "Data columns (total 23 columns):\n",
      " #   Column         Non-Null Count   Dtype  \n",
      "---  ------         --------------   -----  \n",
      " 0   Date           145460 non-null  object \n",
      " 1   Location       145460 non-null  object \n",
      " 2   MinTemp        143975 non-null  float64\n",
      " 3   MaxTemp        144199 non-null  float64\n",
      " 4   Rainfall       142199 non-null  float64\n",
      " 5   Evaporation    82670 non-null   float64\n",
      " 6   Sunshine       75625 non-null   float64\n",
      " 7   WindGustDir    135134 non-null  object \n",
      " 8   WindGustSpeed  135197 non-null  float64\n",
      " 9   WindDir9am     134894 non-null  object \n",
      " 10  WindDir3pm     141232 non-null  object \n",
      " 11  WindSpeed9am   143693 non-null  float64\n",
      " 12  WindSpeed3pm   142398 non-null  float64\n",
      " 13  Humidity9am    142806 non-null  float64\n",
      " 14  Humidity3pm    140953 non-null  float64\n",
      " 15  Pressure9am    130395 non-null  float64\n",
      " 16  Pressure3pm    130432 non-null  float64\n",
      " 17  Cloud9am       89572 non-null   float64\n",
      " 18  Cloud3pm       86102 non-null   float64\n",
      " 19  Temp9am        143693 non-null  float64\n",
      " 20  Temp3pm        141851 non-null  float64\n",
      " 21  RainToday      142199 non-null  object \n",
      " 22  RainTomorrow   142193 non-null  object \n",
      "dtypes: float64(16), object(7)\n",
      "memory usage: 25.5+ MB\n",
      "None\n",
      "df.describe():\n",
      "             MinTemp        MaxTemp       Rainfall   Evaporation  \\\n",
      "count  143975.000000  144199.000000  142199.000000  82670.000000   \n",
      "mean       12.194034      23.221348       2.360918      5.468232   \n",
      "std         6.398495       7.119049       8.478060      4.193704   \n",
      "min        -8.500000      -4.800000       0.000000      0.000000   \n",
      "25%         7.600000      17.900000       0.000000      2.600000   \n",
      "50%        12.000000      22.600000       0.000000      4.800000   \n",
      "75%        16.900000      28.200000       0.800000      7.400000   \n",
      "max        33.900000      48.100000     371.000000    145.000000   \n",
      "\n",
      "           Sunshine  WindGustSpeed   WindSpeed9am   WindSpeed3pm  \\\n",
      "count  75625.000000  135197.000000  143693.000000  142398.000000   \n",
      "mean       7.611178      40.035230      14.043426      18.662657   \n",
      "std        3.785483      13.607062       8.915375       8.809800   \n",
      "min        0.000000       6.000000       0.000000       0.000000   \n",
      "25%        4.800000      31.000000       7.000000      13.000000   \n",
      "50%        8.400000      39.000000      13.000000      19.000000   \n",
      "75%       10.600000      48.000000      19.000000      24.000000   \n",
      "max       14.500000     135.000000     130.000000      87.000000   \n",
      "\n",
      "         Humidity9am    Humidity3pm   Pressure9am    Pressure3pm  \\\n",
      "count  142806.000000  140953.000000  130395.00000  130432.000000   \n",
      "mean       68.880831      51.539116    1017.64994    1015.255889   \n",
      "std        19.029164      20.795902       7.10653       7.037414   \n",
      "min         0.000000       0.000000     980.50000     977.100000   \n",
      "25%        57.000000      37.000000    1012.90000    1010.400000   \n",
      "50%        70.000000      52.000000    1017.60000    1015.200000   \n",
      "75%        83.000000      66.000000    1022.40000    1020.000000   \n",
      "max       100.000000     100.000000    1041.00000    1039.600000   \n",
      "\n",
      "           Cloud9am      Cloud3pm        Temp9am       Temp3pm  \n",
      "count  89572.000000  86102.000000  143693.000000  141851.00000  \n",
      "mean       4.447461      4.509930      16.990631      21.68339  \n",
      "std        2.887159      2.720357       6.488753       6.93665  \n",
      "min        0.000000      0.000000      -7.200000      -5.40000  \n",
      "25%        1.000000      2.000000      12.300000      16.60000  \n",
      "50%        5.000000      5.000000      16.700000      21.10000  \n",
      "75%        7.000000      7.000000      21.600000      26.40000  \n",
      "max        9.000000      9.000000      40.200000      46.70000  \n",
      "df.isnull().sum():\n",
      "Date                 0\n",
      "Location             0\n",
      "MinTemp           1485\n",
      "MaxTemp           1261\n",
      "Rainfall          3261\n",
      "Evaporation      62790\n",
      "Sunshine         69835\n",
      "WindGustDir      10326\n",
      "WindGustSpeed    10263\n",
      "WindDir9am       10566\n",
      "WindDir3pm        4228\n",
      "WindSpeed9am      1767\n",
      "WindSpeed3pm      3062\n",
      "Humidity9am       2654\n",
      "Humidity3pm       4507\n",
      "Pressure9am      15065\n",
      "Pressure3pm      15028\n",
      "Cloud9am         55888\n",
      "Cloud3pm         59358\n",
      "Temp9am           1767\n",
      "Temp3pm           3609\n",
      "RainToday         3261\n",
      "RainTomorrow      3267\n",
      "dtype: int64\n",
      "df.head():\n",
      "         Date Location  MinTemp  MaxTemp  Rainfall  Evaporation  Sunshine  \\\n",
      "0  2008-12-01   Albury     13.4     22.9       0.6          NaN       NaN   \n",
      "1  2008-12-02   Albury      7.4     25.1       0.0          NaN       NaN   \n",
      "2  2008-12-03   Albury     12.9     25.7       0.0          NaN       NaN   \n",
      "3  2008-12-04   Albury      9.2     28.0       0.0          NaN       NaN   \n",
      "4  2008-12-05   Albury     17.5     32.3       1.0          NaN       NaN   \n",
      "\n",
      "  WindGustDir  WindGustSpeed WindDir9am  ... Humidity9am  Humidity3pm  \\\n",
      "0           W           44.0          W  ...        71.0         22.0   \n",
      "1         WNW           44.0        NNW  ...        44.0         25.0   \n",
      "2         WSW           46.0          W  ...        38.0         30.0   \n",
      "3          NE           24.0         SE  ...        45.0         16.0   \n",
      "4           W           41.0        ENE  ...        82.0         33.0   \n",
      "\n",
      "   Pressure9am  Pressure3pm  Cloud9am  Cloud3pm  Temp9am  Temp3pm  RainToday  \\\n",
      "0       1007.7       1007.1       8.0       NaN     16.9     21.8         No   \n",
      "1       1010.6       1007.8       NaN       NaN     17.2     24.3         No   \n",
      "2       1007.6       1008.7       NaN       2.0     21.0     23.2         No   \n",
      "3       1017.6       1012.8       NaN       NaN     18.1     26.5         No   \n",
      "4       1010.8       1006.0       7.0       8.0     17.8     29.7         No   \n",
      "\n",
      "   RainTomorrow  \n",
      "0            No  \n",
      "1            No  \n",
      "2            No  \n",
      "3            No  \n",
      "4            No  \n",
      "\n",
      "[5 rows x 23 columns]\n"
     ]
    }
   ],
   "source": [
    "df = pd.read_csv(\"../data/weatherAUS.csv\")\n",
    "\n",
    "print(f\"df.info():\")\n",
    "print(f\"{df.info()}\")\n",
    "\n",
    "print(f\"df.describe():\")\n",
    "print(f\"{df.describe()}\")\n",
    "\n",
    "print(f\"df.isnull().sum():\")\n",
    "print(f\"{df.isnull().sum()}\")\n",
    "\n",
    "print(f\"df.head():\")\n",
    "print(f\"{df.head()}\")"
   ]
  },
  {
   "cell_type": "code",
   "execution_count": null,
   "id": "7baa0964",
   "metadata": {},
   "outputs": [],
   "source": []
  },
  {
   "cell_type": "code",
   "execution_count": null,
   "id": "ed13e294",
   "metadata": {},
   "outputs": [],
   "source": []
  }
 ],
 "metadata": {
  "kernelspec": {
   "display_name": ".venv",
   "language": "python",
   "name": "python3"
  },
  "language_info": {
   "codemirror_mode": {
    "name": "ipython",
    "version": 3
   },
   "file_extension": ".py",
   "mimetype": "text/x-python",
   "name": "python",
   "nbconvert_exporter": "python",
   "pygments_lexer": "ipython3",
   "version": "3.13.1"
  }
 },
 "nbformat": 4,
 "nbformat_minor": 5
}
